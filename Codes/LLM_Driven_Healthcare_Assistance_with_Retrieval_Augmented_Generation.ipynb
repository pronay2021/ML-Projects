{
  "nbformat": 4,
  "nbformat_minor": 0,
  "metadata": {
    "colab": {
      "provenance": [],
      "gpuType": "T4"
    },
    "kernelspec": {
      "name": "python3",
      "display_name": "Python 3"
    },
    "language_info": {
      "name": "python"
    },
    "accelerator": "GPU"
  },
  "cells": [
    {
      "cell_type": "code",
      "source": [
        "!pip install -U langchain-community"
      ],
      "metadata": {
        "colab": {
          "base_uri": "https://localhost:8080/"
        },
        "id": "q4S4wPixplwd",
        "outputId": "121d0c6c-9696-4d36-aaa6-2ab04c36927f"
      },
      "execution_count": null,
      "outputs": [
        {
          "output_type": "stream",
          "name": "stdout",
          "text": [
            "Requirement already satisfied: langchain-community in /usr/local/lib/python3.10/dist-packages (0.3.12)\n",
            "Requirement already satisfied: PyYAML>=5.3 in /usr/local/lib/python3.10/dist-packages (from langchain-community) (6.0.2)\n",
            "Requirement already satisfied: SQLAlchemy<3,>=1.4 in /usr/local/lib/python3.10/dist-packages (from langchain-community) (2.0.36)\n",
            "Requirement already satisfied: aiohttp<4.0.0,>=3.8.3 in /usr/local/lib/python3.10/dist-packages (from langchain-community) (3.11.10)\n",
            "Requirement already satisfied: dataclasses-json<0.7,>=0.5.7 in /usr/local/lib/python3.10/dist-packages (from langchain-community) (0.6.7)\n",
            "Requirement already satisfied: httpx-sse<0.5.0,>=0.4.0 in /usr/local/lib/python3.10/dist-packages (from langchain-community) (0.4.0)\n",
            "Requirement already satisfied: langchain<0.4.0,>=0.3.12 in /usr/local/lib/python3.10/dist-packages (from langchain-community) (0.3.12)\n",
            "Requirement already satisfied: langchain-core<0.4.0,>=0.3.25 in /usr/local/lib/python3.10/dist-packages (from langchain-community) (0.3.25)\n",
            "Requirement already satisfied: langsmith<0.3,>=0.1.125 in /usr/local/lib/python3.10/dist-packages (from langchain-community) (0.2.2)\n",
            "Requirement already satisfied: numpy<2,>=1.22.4 in /usr/local/lib/python3.10/dist-packages (from langchain-community) (1.26.4)\n",
            "Requirement already satisfied: pydantic-settings<3.0.0,>=2.4.0 in /usr/local/lib/python3.10/dist-packages (from langchain-community) (2.7.0)\n",
            "Requirement already satisfied: requests<3,>=2 in /usr/local/lib/python3.10/dist-packages (from langchain-community) (2.32.3)\n",
            "Requirement already satisfied: tenacity!=8.4.0,<10,>=8.1.0 in /usr/local/lib/python3.10/dist-packages (from langchain-community) (9.0.0)\n",
            "Requirement already satisfied: aiohappyeyeballs>=2.3.0 in /usr/local/lib/python3.10/dist-packages (from aiohttp<4.0.0,>=3.8.3->langchain-community) (2.4.4)\n",
            "Requirement already satisfied: aiosignal>=1.1.2 in /usr/local/lib/python3.10/dist-packages (from aiohttp<4.0.0,>=3.8.3->langchain-community) (1.3.1)\n",
            "Requirement already satisfied: async-timeout<6.0,>=4.0 in /usr/local/lib/python3.10/dist-packages (from aiohttp<4.0.0,>=3.8.3->langchain-community) (4.0.3)\n",
            "Requirement already satisfied: attrs>=17.3.0 in /usr/local/lib/python3.10/dist-packages (from aiohttp<4.0.0,>=3.8.3->langchain-community) (24.2.0)\n",
            "Requirement already satisfied: frozenlist>=1.1.1 in /usr/local/lib/python3.10/dist-packages (from aiohttp<4.0.0,>=3.8.3->langchain-community) (1.5.0)\n",
            "Requirement already satisfied: multidict<7.0,>=4.5 in /usr/local/lib/python3.10/dist-packages (from aiohttp<4.0.0,>=3.8.3->langchain-community) (6.1.0)\n",
            "Requirement already satisfied: propcache>=0.2.0 in /usr/local/lib/python3.10/dist-packages (from aiohttp<4.0.0,>=3.8.3->langchain-community) (0.2.1)\n",
            "Requirement already satisfied: yarl<2.0,>=1.17.0 in /usr/local/lib/python3.10/dist-packages (from aiohttp<4.0.0,>=3.8.3->langchain-community) (1.18.3)\n",
            "Requirement already satisfied: marshmallow<4.0.0,>=3.18.0 in /usr/local/lib/python3.10/dist-packages (from dataclasses-json<0.7,>=0.5.7->langchain-community) (3.23.1)\n",
            "Requirement already satisfied: typing-inspect<1,>=0.4.0 in /usr/local/lib/python3.10/dist-packages (from dataclasses-json<0.7,>=0.5.7->langchain-community) (0.9.0)\n",
            "Requirement already satisfied: langchain-text-splitters<0.4.0,>=0.3.3 in /usr/local/lib/python3.10/dist-packages (from langchain<0.4.0,>=0.3.12->langchain-community) (0.3.3)\n",
            "Requirement already satisfied: pydantic<3.0.0,>=2.7.4 in /usr/local/lib/python3.10/dist-packages (from langchain<0.4.0,>=0.3.12->langchain-community) (2.10.3)\n",
            "Requirement already satisfied: jsonpatch<2.0,>=1.33 in /usr/local/lib/python3.10/dist-packages (from langchain-core<0.4.0,>=0.3.25->langchain-community) (1.33)\n",
            "Requirement already satisfied: packaging<25,>=23.2 in /usr/local/lib/python3.10/dist-packages (from langchain-core<0.4.0,>=0.3.25->langchain-community) (24.2)\n",
            "Requirement already satisfied: typing-extensions>=4.7 in /usr/local/lib/python3.10/dist-packages (from langchain-core<0.4.0,>=0.3.25->langchain-community) (4.12.2)\n",
            "Requirement already satisfied: httpx<1,>=0.23.0 in /usr/local/lib/python3.10/dist-packages (from langsmith<0.3,>=0.1.125->langchain-community) (0.28.1)\n",
            "Requirement already satisfied: orjson<4.0.0,>=3.9.14 in /usr/local/lib/python3.10/dist-packages (from langsmith<0.3,>=0.1.125->langchain-community) (3.10.12)\n",
            "Requirement already satisfied: requests-toolbelt<2.0.0,>=1.0.0 in /usr/local/lib/python3.10/dist-packages (from langsmith<0.3,>=0.1.125->langchain-community) (1.0.0)\n",
            "Requirement already satisfied: python-dotenv>=0.21.0 in /usr/local/lib/python3.10/dist-packages (from pydantic-settings<3.0.0,>=2.4.0->langchain-community) (1.0.1)\n",
            "Requirement already satisfied: charset-normalizer<4,>=2 in /usr/local/lib/python3.10/dist-packages (from requests<3,>=2->langchain-community) (3.4.0)\n",
            "Requirement already satisfied: idna<4,>=2.5 in /usr/local/lib/python3.10/dist-packages (from requests<3,>=2->langchain-community) (3.10)\n",
            "Requirement already satisfied: urllib3<3,>=1.21.1 in /usr/local/lib/python3.10/dist-packages (from requests<3,>=2->langchain-community) (2.2.3)\n",
            "Requirement already satisfied: certifi>=2017.4.17 in /usr/local/lib/python3.10/dist-packages (from requests<3,>=2->langchain-community) (2024.8.30)\n",
            "Requirement already satisfied: greenlet!=0.4.17 in /usr/local/lib/python3.10/dist-packages (from SQLAlchemy<3,>=1.4->langchain-community) (3.1.1)\n",
            "Requirement already satisfied: anyio in /usr/local/lib/python3.10/dist-packages (from httpx<1,>=0.23.0->langsmith<0.3,>=0.1.125->langchain-community) (3.7.1)\n",
            "Requirement already satisfied: httpcore==1.* in /usr/local/lib/python3.10/dist-packages (from httpx<1,>=0.23.0->langsmith<0.3,>=0.1.125->langchain-community) (1.0.7)\n",
            "Requirement already satisfied: h11<0.15,>=0.13 in /usr/local/lib/python3.10/dist-packages (from httpcore==1.*->httpx<1,>=0.23.0->langsmith<0.3,>=0.1.125->langchain-community) (0.14.0)\n",
            "Requirement already satisfied: jsonpointer>=1.9 in /usr/local/lib/python3.10/dist-packages (from jsonpatch<2.0,>=1.33->langchain-core<0.4.0,>=0.3.25->langchain-community) (3.0.0)\n",
            "Requirement already satisfied: annotated-types>=0.6.0 in /usr/local/lib/python3.10/dist-packages (from pydantic<3.0.0,>=2.7.4->langchain<0.4.0,>=0.3.12->langchain-community) (0.7.0)\n",
            "Requirement already satisfied: pydantic-core==2.27.1 in /usr/local/lib/python3.10/dist-packages (from pydantic<3.0.0,>=2.7.4->langchain<0.4.0,>=0.3.12->langchain-community) (2.27.1)\n",
            "Requirement already satisfied: mypy-extensions>=0.3.0 in /usr/local/lib/python3.10/dist-packages (from typing-inspect<1,>=0.4.0->dataclasses-json<0.7,>=0.5.7->langchain-community) (1.0.0)\n",
            "Requirement already satisfied: sniffio>=1.1 in /usr/local/lib/python3.10/dist-packages (from anyio->httpx<1,>=0.23.0->langsmith<0.3,>=0.1.125->langchain-community) (1.3.1)\n",
            "Requirement already satisfied: exceptiongroup in /usr/local/lib/python3.10/dist-packages (from anyio->httpx<1,>=0.23.0->langsmith<0.3,>=0.1.125->langchain-community) (1.2.2)\n"
          ]
        }
      ]
    },
    {
      "cell_type": "code",
      "source": [
        "!pip install faiss-cpu"
      ],
      "metadata": {
        "colab": {
          "base_uri": "https://localhost:8080/"
        },
        "id": "xz1FknVLqRyl",
        "outputId": "9442f6c2-c3e9-4f18-d396-d944832b62c3"
      },
      "execution_count": null,
      "outputs": [
        {
          "output_type": "stream",
          "name": "stdout",
          "text": [
            "Requirement already satisfied: faiss-cpu in /usr/local/lib/python3.10/dist-packages (1.9.0.post1)\n",
            "Requirement already satisfied: numpy<3.0,>=1.25.0 in /usr/local/lib/python3.10/dist-packages (from faiss-cpu) (1.26.4)\n",
            "Requirement already satisfied: packaging in /usr/local/lib/python3.10/dist-packages (from faiss-cpu) (24.2)\n"
          ]
        }
      ]
    },
    {
      "cell_type": "code",
      "execution_count": null,
      "metadata": {
        "id": "-cjci7uupMet"
      },
      "outputs": [],
      "source": [
        "import pandas as pd\n",
        "from langchain.chains import RetrievalQA\n",
        "from langchain.vectorstores import FAISS\n",
        "from langchain.embeddings import HuggingFaceEmbeddings\n",
        "from langchain.llms import HuggingFacePipeline\n",
        "from transformers import pipeline"
      ]
    },
    {
      "cell_type": "markdown",
      "source": [
        "# **Loadng the csv file**"
      ],
      "metadata": {
        "id": "5YwsNo3EtFlw"
      }
    },
    {
      "cell_type": "code",
      "source": [
        "# Step 1: Load data from the CSV file\n",
        "def load_data_from_csv(file_path):\n",
        "\n",
        "    df = pd.read_csv(file_path)\n",
        "    questions = df['question'].tolist()\n",
        "    answers = df['answer'].tolist()\n",
        "    return questions, answers"
      ],
      "metadata": {
        "id": "fDVJpQHXpW9E"
      },
      "execution_count": null,
      "outputs": []
    },
    {
      "cell_type": "markdown",
      "source": [
        "# **Creating KB**"
      ],
      "metadata": {
        "id": "E1EXEvsQvcu1"
      }
    },
    {
      "cell_type": "code",
      "source": [
        "def create_healthcare_knowledge_base(questions):\n",
        "    \"\"\"\n",
        "    Takes a list of questions and converts it into a vectorstore for retrieval.\n",
        "    \"\"\"\n",
        "    embeddings = HuggingFaceEmbeddings(model_name=\"sentence-transformers/all-MiniLM-L6-v2\")\n",
        "    vectorstore = FAISS.from_texts(questions, embeddings)\n",
        "    return vectorstore"
      ],
      "metadata": {
        "id": "tmXHkirB0xQe"
      },
      "execution_count": null,
      "outputs": []
    },
    {
      "cell_type": "code",
      "source": [
        "csv_file_path = \"/content/medquad.csv\"\n",
        "\n",
        "questions, answers = load_data_from_csv(csv_file_path)\n",
        "\n",
        "knowledge_base = create_healthcare_knowledge_base(questions)"
      ],
      "metadata": {
        "id": "0aylsuFOpbum"
      },
      "execution_count": null,
      "outputs": []
    },
    {
      "cell_type": "markdown",
      "source": [
        "# **Setting up the RetrievalQA chain**"
      ],
      "metadata": {
        "id": "-cXh4GwOtNuT"
      }
    },
    {
      "cell_type": "code",
      "source": [
        "hf_pipeline = pipeline(\n",
        "    \"text2text-generation\",\n",
        "    model=\"google/flan-t5-small\",\n",
        "    max_new_tokens=50\n",
        ")\n",
        "llm = HuggingFacePipeline(pipeline=hf_pipeline)\n",
        "retriever = knowledge_base.as_retriever()\n",
        "qa_chain = RetrievalQA.from_chain_type(llm=llm, retriever=retriever, return_source_documents=True)\n"
      ],
      "metadata": {
        "colab": {
          "base_uri": "https://localhost:8080/"
        },
        "id": "YYT_W3FYrpB0",
        "outputId": "5d50701c-0e37-4e04-d212-47f62508222d"
      },
      "execution_count": null,
      "outputs": [
        {
          "output_type": "stream",
          "name": "stderr",
          "text": [
            "Hardware accelerator e.g. GPU is available in the environment, but no `device` argument is passed to the `Pipeline` object. Model will be on CPU.\n"
          ]
        }
      ]
    },
    {
      "cell_type": "markdown",
      "source": [
        "# **Prompting**"
      ],
      "metadata": {
        "id": "9yOg1A8atR0M"
      }
    },
    {
      "cell_type": "code",
      "source": [
        "print(\"Welcome to the Healthcare Q&A System!\")\n",
        "while True:\n",
        "    question = input(\"Please enter your healthcare-related question (or type 'exit' to quit): \")\n",
        "    if question.lower() == 'exit':\n",
        "        print(\"Thank you for using the Healthcare Q&A System!\")\n",
        "        break\n",
        "\n",
        "    # Use the question for retrieval\n",
        "    response = qa_chain.invoke(question)\n",
        "    if \"source_documents\" in response and response[\"source_documents\"]:\n",
        "        # Map back to the original answer based on the retrieved question\n",
        "        retrieved_question = response[\"source_documents\"][0].page_content\n",
        "        answer_index = questions.index(retrieved_question)\n",
        "        retrieved_answer = answers[answer_index]\n",
        "        print(\"Answer:\", retrieved_answer)\n",
        "    else:\n",
        "        print(\"I'm sorry, I couldn't find a relevant answer.\")"
      ],
      "metadata": {
        "colab": {
          "base_uri": "https://localhost:8080/"
        },
        "id": "k-3fsZUdpdvY",
        "outputId": "223a728a-67e7-489f-80ba-b8b49b77b4fe"
      },
      "execution_count": null,
      "outputs": [
        {
          "output_type": "stream",
          "name": "stdout",
          "text": [
            "Welcome to the Healthcare Q&A System!\n",
            "Please enter your healthcare-related question (or type 'exit' to quit): suggest medicine for fever\n",
            "Answer: In the United States, Q fever outbreaks have resulted mainly from occupational exposure involving veterinarians, meat processing plant workers, sheep and dairy workers, livestock farmers, and researchers at facilities housing sheep. Prevention and control efforts should be directed primarily toward these groups and environments. \n",
            " \n",
            "The following measures should be used in the prevention and control of Q fever: \n",
            "  \n",
            "  - Educate the public on sources of infection.  \n",
            "  - Appropriately dispose of placenta, birth products, fetal membranes, and aborted fetuses at facilities housing sheep and goats.  \n",
            "  - Restrict access to barns and laboratories used in housing potentially infected animals.   \n",
            "  - Use appropriate procedures for bagging, autoclaving, and washing of laboratory clothing.  \n",
            "  - Vaccinate (where possible) individuals engaged in research with pregnant sheep or live C. burnetii.  \n",
            "  - Quarantine imported animals.  \n",
            "  - Ensure that holding facilities for sheep should be located away from populated areas. Animals should be routinely tested for antibodies to C. burnetii, and measures should be implemented to prevent airflow to other occupied areas.  \n",
            "  - Counsel persons at highest risk for developing chronic Q fever, especially persons with pre-existing cardiac valvular disease or individuals with vascular grafts.  \n",
            "  \n",
            " \n",
            "A vaccine for Q fever has been developed and has successfully protected humans in occupational settings in Australia. However, this vaccine is not commercially available in the United States. Persons wishing to be vaccinated should first have a skin test to determine a history of previous exposure. Individuals who have previously been exposed to C. burnetii should not receive the vaccine because severe reactions, localized to the area of the injected vaccine, may occur. A vaccine for use in animals has also been developed, but it is not available in the United States. \n",
            " Significance for Bioterrorism \n",
            " \n",
            "Coxiella burnetii is a highly infectious agent that is rather resistant to heat and drying. It can become airborne and inhaled by humans. A single C. burnetii organism may cause disease in a susceptible person. This agent has a past history of being developed for use in biological warfare and is considered a potential terrorist threat.\n",
            "Please enter your healthcare-related question (or type 'exit' to quit): What to do in cancer\n",
            "Answer: Fatigue, or feeling extremely tired, is a common complaint during the first year after cancer treatment ends. Many factors may contribute to treatment-related fatigue, including cancer therapy or other problems such as stress, poor nutrition, and depression. Researchers are still learning about the multiple reasons for fatigue after treatment.\n",
            "Please enter your healthcare-related question (or type 'exit' to quit): Is napa good for fever?\n",
            "Answer: In the United States, Q fever outbreaks have resulted mainly from occupational exposure involving veterinarians, meat processing plant workers, sheep and dairy workers, livestock farmers, and researchers at facilities housing sheep. Prevention and control efforts should be directed primarily toward these groups and environments. \n",
            " \n",
            "The following measures should be used in the prevention and control of Q fever: \n",
            "  \n",
            "  - Educate the public on sources of infection.  \n",
            "  - Appropriately dispose of placenta, birth products, fetal membranes, and aborted fetuses at facilities housing sheep and goats.  \n",
            "  - Restrict access to barns and laboratories used in housing potentially infected animals.   \n",
            "  - Use appropriate procedures for bagging, autoclaving, and washing of laboratory clothing.  \n",
            "  - Vaccinate (where possible) individuals engaged in research with pregnant sheep or live C. burnetii.  \n",
            "  - Quarantine imported animals.  \n",
            "  - Ensure that holding facilities for sheep should be located away from populated areas. Animals should be routinely tested for antibodies to C. burnetii, and measures should be implemented to prevent airflow to other occupied areas.  \n",
            "  - Counsel persons at highest risk for developing chronic Q fever, especially persons with pre-existing cardiac valvular disease or individuals with vascular grafts.  \n",
            "  \n",
            " \n",
            "A vaccine for Q fever has been developed and has successfully protected humans in occupational settings in Australia. However, this vaccine is not commercially available in the United States. Persons wishing to be vaccinated should first have a skin test to determine a history of previous exposure. Individuals who have previously been exposed to C. burnetii should not receive the vaccine because severe reactions, localized to the area of the injected vaccine, may occur. A vaccine for use in animals has also been developed, but it is not available in the United States. \n",
            " Significance for Bioterrorism \n",
            " \n",
            "Coxiella burnetii is a highly infectious agent that is rather resistant to heat and drying. It can become airborne and inhaled by humans. A single C. burnetii organism may cause disease in a susceptible person. This agent has a past history of being developed for use in biological warfare and is considered a potential terrorist threat.\n",
            "Please enter your healthcare-related question (or type 'exit' to quit): Masturbating causes what\n",
            "Answer: What causes cutaneous mastocytosis? Most cases of cutaneous mastocytosis are caused by changes (mutations) in the KIT gene. This gene encodes a protein that helps control many important cellular processes such as cell growth and division; survival; and movement. This protein is also important for the development of certain types of cells, including mast cells (immune cells that are important for the inflammatory response). Certain mutations in the KIT gene can leads to an overproduction of mast cells. In cutaneous mastocytosis, excess mast cells accumulate in the skin, leading to the many signs and symptoms of the condition.\n",
            "Please enter your healthcare-related question (or type 'exit' to quit): Who is at risk for Diabetes? ?\n",
            "Answer: Diabetes is a serious, life-long disease. It can lead to problems such as heart disease, stroke, vision loss, kidney disease, and nerve damage. More than 8 million people in the United States have type 2 diabetes and dont know it. Many people dont find out they have diabetes until they are faced with problems such as blurry vision or heart trouble. Certain factors can increase your risk for diabetes, and its important to know what they are. Type 1 Diabetes Type 1 diabetes is an autoimmune disease. In an autoimmune reaction, antibodies, or immune cells, attach to the bodys own healthy tissues by mistake, signaling the body to attack them. At present, scientists do not know exactly what causes the body's immune system to attack the cells, but many believe that both genetic factors and environmental factors, such as viruses, are involved. Studies are now underway to identify these factors and prevent type 1 diabetes in people at risk.  Learn more about the causes of type 1 diabetes.  Type 2 Diabetes Type 2 diabetes -- the most common form -- is linked closely to overweight and obesity, high blood pressure, and abnormal cholesterol levels. Many people with type 2 diabetes are overweight. Being overweight can keep your body from using insulin properly. Genes also play an important role in a person's risk for type 2 diabetes. Having certain genes or combinations of genes may increase or decrease a persons risk for developing the disease.  Here are the risk factors for type 2 diabetes. -  being over 45 years of age  -  being overweight or obese  - having a first-degree relative -- a parent, brother, or sister -- with diabetes  - being African American, American Indian or Alaska Native, Asian American or Pacific Islander, or Hispanic American/Latino. (Watch the video to learn more about native Americans and diabetes risk. To enlarge the video, click the brackets in the lower right-hand corner. To reduce the video, press the Escape (Esc) button on your keyboard.) being over 45 years of age being overweight or obese having a first-degree relative -- a parent, brother, or sister -- with diabetes being African American, American Indian or Alaska Native, Asian American or Pacific Islander, or Hispanic American/Latino. (Watch the video to learn more about native Americans and diabetes risk. To enlarge the video, click the brackets in the lower right-hand corner. To reduce the video, press the Escape (Esc) button on your keyboard.) - having gestational diabetes, or giving birth to at least one baby weighing more than 9 pounds  - having blood pressure of 140/90 or higher, or having been told that you have high blood pressure.  - having abnormal cholesterol levels -- an HDL cholesterol level of 35 or lower, or a triglyceride level of 250 or higher  - being inactive or exercising fewer than three times a week.  - having polycystic ovary syndrome, also called PCOS (women only)  - on previous testing, having prediabetes (an A1C level of 5.7 to 6.4 percent), impaired glucose tolerance (IGT) or impaired fasting glucose (IFG)  - history of cardiovascular disease (disease affecting the heart and blood vessels). having gestational diabetes, or giving birth to at least one baby weighing more than 9 pounds having blood pressure of 140/90 or higher, or having been told that you have high blood pressure. having abnormal cholesterol levels -- an HDL cholesterol level of 35 or lower, or a triglyceride level of 250 or higher being inactive or exercising fewer than three times a week. having polycystic ovary syndrome, also called PCOS (women only) on previous testing, having prediabetes (an A1C level of 5.7 to 6.4 percent), impaired glucose tolerance (IGT) or impaired fasting glucose (IFG) history of cardiovascular disease (disease affecting the heart and blood vessels).  Learn more about the causes of type 2 diabetes.  Prediabetes and Type 2 Diabetes Before people develop type 2 diabetes, they usually have prediabetes -- a condition in which blood glucose levels are higher than normal, but not high enough for a diagnosis of diabetes. People with prediabetes are more likely to develop diabetes within 10 years and also are more likely to have a heart attack or stroke. Prediabetes is increasingly common in the U.S. adult population. In 2012, about 86 million people in the U.S. had pre-diabetes, and 51% of those 65 or older had prediabetes. Learn more about prediabetes.  Gestational Diabetes Some women develop diabetes during the late stages of pregnancy. This is called gestational diabetes. Although this form of diabetes usually goes away after the baby is born, a woman who has had it has a lifelong risk for developing diabetes, mostly type 2.\n",
            "Please enter your healthcare-related question (or type 'exit' to quit): exit\n",
            "Thank you for using the Healthcare Q&A System!\n"
          ]
        }
      ]
    }
  ]
}